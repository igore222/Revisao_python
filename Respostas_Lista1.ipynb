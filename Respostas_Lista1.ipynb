{
 "cells": [
  {
   "cell_type": "code",
   "execution_count": 1,
   "id": "4fef7267-8da0-4c31-8bed-1e2f0b424508",
   "metadata": {},
   "outputs": [],
   "source": [
    "# Estudo de Revisão Python - Estruturas de decisão"
   ]
  },
  {
   "cell_type": "code",
   "execution_count": 4,
   "id": "3d94904b-cd1c-448c-8b94-1433833d75cc",
   "metadata": {},
   "outputs": [],
   "source": [
    "# Questão 01\n",
    "\n",
    "# Faça um programa para a leitura de duas notas parciais de um aluno. O programa deve calcular a média alcançada por aluno e apresentar:\n",
    "\n",
    "# A mensagem \"Aprovado\", se a média alcançada for maior ou igual a 7;\n",
    "# A mensagem \"Reprovado\", se a média for menor do que 7;\n",
    "# A mensagem \"Aprovado com Distinção\", se a média for igual a 10\n"
   ]
  },
  {
   "cell_type": "code",
   "execution_count": 8,
   "id": "f24a1463-4627-4deb-8b88-389a77d0995f",
   "metadata": {},
   "outputs": [
    {
     "name": "stdin",
     "output_type": "stream",
     "text": [
      "Insira a nota 01:  8\n",
      "Insira a nota 02:  10\n"
     ]
    },
    {
     "name": "stdout",
     "output_type": "stream",
     "text": [
      "Aprovado\n"
     ]
    }
   ],
   "source": [
    "nota1 = float(input(\"Insira a nota 01: \"))\n",
    "nota2 = float(input(\"Insira a nota 02: \"))\n",
    "\n",
    "media = (nota1 + nota2) / 2\n",
    "\n",
    "if media == 10:\n",
    "    print(\"Aprovado com Distinção\")\n",
    "elif media >= 7:\n",
    "    print(\"Aprovado\")\n",
    "else:\n",
    "    print(\"Reprovado\")\n"
   ]
  },
  {
   "cell_type": "code",
   "execution_count": 9,
   "id": "2c048d71-4636-446d-86ac-6e30af709392",
   "metadata": {},
   "outputs": [],
   "source": [
    "# Questão 02\n",
    "\n",
    "# Faça um Programa que leia três números e mostre-os em ordem decrescente"
   ]
  },
  {
   "cell_type": "code",
   "execution_count": 11,
   "id": "f17ea52c-eec3-45dd-a471-0c850a411ed3",
   "metadata": {},
   "outputs": [
    {
     "name": "stdin",
     "output_type": "stream",
     "text": [
      "Digite o 1° número:  54\n",
      "Digite o 2° número:  7\n",
      "Digite o 2° número:  98\n"
     ]
    },
    {
     "name": "stdout",
     "output_type": "stream",
     "text": [
      "Números em ordem decrescente: \n",
      "98.0\n",
      "54.0\n",
      "7.0\n"
     ]
    }
   ],
   "source": [
    "num1 = float(input(\"Digite o 1° número: \"))\n",
    "num2 = float(input(\"Digite o 2° número: \"))\n",
    "num3 = float(input(\"Digite o 2° número: \"))\n",
    "\n",
    "print(\"Números em ordem decrescente: \")\n",
    "for num in sorted([num1, num2, num3], reverse=True):\n",
    "    print(num)\n"
   ]
  },
  {
   "cell_type": "code",
   "execution_count": 12,
   "id": "9273b17f-5304-4781-8e39-2721553f4e68",
   "metadata": {},
   "outputs": [],
   "source": [
    "# Questão 03\n",
    "\n",
    "# Faça um programa que recebe o salário de um colaborador e o reajuste segundo o seguinte critério, baseado no salário atual:\n",
    "# salários até R$ 280,00 (incluindo) : aumento de 20%\n",
    "# salários entre R$ 280,00 e R$ 700,00 : aumento de 15%\n",
    "# salários entre R$ 700,00 e R$ 1500,00 : aumento de 10%\n",
    "# salários de R$ 1500,00 em diante : aumento de 5% Após o aumento ser realizado, informe na tela:\n",
    "# o salário antes do reajuste;\n",
    "# o percentual de aumento aplicado;\n",
    "# o valor do aumento;\n",
    "# o novo salário, após o aumento."
   ]
  },
  {
   "cell_type": "code",
   "execution_count": 16,
   "id": "18d4ecc3-eb53-412f-a2e2-3de3463d30f1",
   "metadata": {},
   "outputs": [
    {
     "name": "stdin",
     "output_type": "stream",
     "text": [
      "Colaborador, digite o seu salário atual:  785\n"
     ]
    },
    {
     "name": "stdout",
     "output_type": "stream",
     "text": [
      "Seu salário antes do reajuste era: R$ 785.0\n",
      "Com o percentual de aumento aplicado: 10 %\n",
      "O valor do aumento será: R$ 78.5\n",
      "Seu novo salário após o aumento: R$ 863.5\n"
     ]
    }
   ],
   "source": [
    "salario_atual = float(input(\"Colaborador, digite o seu salário atual: \"))\n",
    "\n",
    "if salario_atual <= 280:\n",
    "    percent_aum = 20\n",
    "elif salario_atual <= 700:\n",
    "    percent_aum = 15\n",
    "elif salario_atual <= 1500:\n",
    "    percent_aum = 10\n",
    "else:\n",
    "    percentual_aumento = 5\n",
    "\n",
    "aumento = salario_atual * (percent_aum / 100)\n",
    "novo_salario = salario_atual + aumento\n",
    "\n",
    "print(\"Seu salário antes do reajuste era: R$\", salario_atual)\n",
    "print(\"Com o percentual de aumento aplicado:\", percent_aum, \"%\")\n",
    "print(\"O valor do aumento será: R$\", aumento)\n",
    "print(\"Seu novo salário após o aumento: R$\", novo_salario)\n"
   ]
  },
  {
   "cell_type": "code",
   "execution_count": 18,
   "id": "0a195d56-5840-4c23-9e4b-ca29c9db3e17",
   "metadata": {},
   "outputs": [],
   "source": [
    "# Questão 04\n",
    "\n",
    "# Faça um programa para o cálculo de uma folha de pagamento, sabendo que os descontos são do Imposto de Renda, que depende do salário bruto \n",
    "# (conforme tabela abaixo) e 3% para o Sindicato e que o FGTS corresponde a 11% do Salário Bruto, mas não é descontado (é a empresa que deposita). \n",
    "# O Salário Líquido corresponde ao Salário Bruto menos os descontos. O programa deverá pedir ao usuário o valor da sua hora e a quantidade de horas trabalhadas no mês.\n",
    "# Desconto do IR:\n",
    "# Salário Bruto até 900 (inclusive) - isento\n",
    "# Salário Bruto até 1500 (inclusive) - desconto de 5%\n",
    "# Salário Bruto até 2500 (inclusive) - desconto de 10%\n",
    "# Salário Bruto acima de 2500 - desconto de 20%\n",
    "# Imprima na tela as informações, dispostas conforme o exemplo abaixo. No exemplo o valor da hora é 5 e a quantidade de hora é 220."
   ]
  },
  {
   "cell_type": "code",
   "execution_count": 25,
   "id": "05cdc68f-9947-473c-a562-acfab7d77366",
   "metadata": {},
   "outputs": [
    {
     "name": "stdin",
     "output_type": "stream",
     "text": [
      "Qual o valor da hora trabalhada:  70\n",
      "Quantidade de horas trabalhadas no mês:  180\n"
     ]
    },
    {
     "name": "stdout",
     "output_type": "stream",
     "text": [
      "Folha de Pagamento\n",
      "Salário Bruto (70.0 * 180.0): R$ 12600.00\n",
      "(-) IR (20.0%): R$ 2520.00\n",
      "(-) Sindicato (3%): R$ 378.00\n",
      "FGTS (11%): R$ 1386.00\n",
      "Total de descontos: R$ 2898.00\n",
      "Salário Líquido: R$ 9702.00\n"
     ]
    }
   ],
   "source": [
    "valor_hora = float(input(\"Qual o valor da hora trabalhada: \"))\n",
    "horas_trabalhadas = float(input(\"Quantidade de horas trabalhadas no mês: \"))\n",
    "\n",
    "salario_bruto = valor_hora * horas_trabalhadas\n",
    "\n",
    "if salario_bruto <= 900:\n",
    "    ir_percentual = 0\n",
    "elif salario_bruto <= 1500:\n",
    "    ir_percentual = 0.05\n",
    "elif salario_bruto <= 2500:\n",
    "    ir_percentual = 0.10\n",
    "else:\n",
    "    ir_percentual = 0.20\n",
    "\n",
    "ir = salario_bruto * ir_percentual\n",
    "\n",
    "desconto_sindicato = salario_bruto * 0.03\n",
    "\n",
    "fgts = salario_bruto * 0.11\n",
    "\n",
    "total_descontos = ir + desconto_sindicato\n",
    "\n",
    "salario_liquido = salario_bruto - total_descontos\n",
    "\n",
    "saida = f\"Folha de Pagamento\\n\"\n",
    "saida += f\"Salário Bruto ({valor_hora} * {horas_trabalhadas}): R$ {salario_bruto:.2f}\\n\"\n",
    "saida += f\"(-) IR ({ir_percentual * 100}%): R$ {ir:.2f}\\n\"\n",
    "saida += f\"(-) Sindicato (3%): R$ {desconto_sindicato:.2f}\\n\"\n",
    "saida += f\"FGTS (11%): R$ {fgts:.2f}\\n\"\n",
    "saida += f\"Total de descontos: R$ {total_descontos:.2f}\\n\"\n",
    "saida += f\"Salário Líquido: R$ {salario_liquido:.2f}\"\n",
    "\n",
    "print(saida)\n"
   ]
  },
  {
   "cell_type": "code",
   "execution_count": null,
   "id": "520b05b6-19be-42da-8806-239ace35ca5e",
   "metadata": {},
   "outputs": [],
   "source": [
    "# Questão 05\n",
    "\n",
    "# Faça um programa que calcule as raízes de uma equação do segundo grau, na forma ax2 + bx + c. \n",
    "# O programa deverá pedir os valores de a, b e c e fazer as consistências, informando ao usuário nas seguintes situações:\n",
    "\n",
    "# Se o usuário informar o valor de A igual a zero, a equação não é do segundo grau e o programa não deve fazer pedir os demais valores, sendo encerrado;\n",
    "# Se o delta calculado for negativo, a equação não possui raizes reais. Informe ao usuário e encerre o programa;\n",
    "# Se o delta calculado for igual a zero a equação possui apenas uma raiz real; informe-a ao usuário;\n",
    "# Se o delta for positivo, a equação possui duas raiz reais; informe-as ao usuário"
   ]
  },
  {
   "cell_type": "code",
   "execution_count": 33,
   "id": "f6c2f51e-5b27-418c-9881-98ba4301b316",
   "metadata": {},
   "outputs": [
    {
     "name": "stdin",
     "output_type": "stream",
     "text": [
      "Digite o valor de a:  54\n",
      "Digite o valor de b:  87\n",
      "Digite o valor de c:  32\n"
     ]
    },
    {
     "name": "stdout",
     "output_type": "stream",
     "text": [
      "A equação possui duas raízes reais: -0.57 e -1.04\n"
     ]
    }
   ],
   "source": [
    "dados_a = float(input(\"Digite o valor de a: \"))\n",
    "\n",
    "if dados_a == 0:\n",
    "    print(\"O valor não corresponde, o programa será encerrado\")\n",
    "else:\n",
    "    dados_b = float(input(\"Digite o valor de b: \"))\n",
    "    dados_c = float(input(\"Digite o valor de c: \"))\n",
    "\n",
    "    delta = dados_b**2 - 4*dados_a*dados_c\n",
    "\n",
    "    if delta < 0:\n",
    "        print(\"A equação não possui raízes reais.\")\n",
    "    elif delta == 0:\n",
    "        raiz = -dados_b / (2*dados_a)\n",
    "        print(f\"A equação possui uma raiz real: {raiz:.2f}\")\n",
    "    else:\n",
    "        raiz1 = (-dados_b + (delta ** 0.5)) / (2*dados_a)\n",
    "        raiz2 = (-dados_b - (delta ** 0.5)) / (2*dados_a)\n",
    "        print(f\"A equação possui duas raízes reais: {raiz1:.2f} e {raiz2:.2f}\")"
   ]
  },
  {
   "cell_type": "code",
   "execution_count": null,
   "id": "c46b46f5-5c62-41d6-ab0c-7db710d91643",
   "metadata": {},
   "outputs": [],
   "source": [
    "# Questão 06\n",
    "\n",
    "# Faça um Programa que leia um número inteiro menor que 1000 e imprima a quantidade de centenas, dezenas e unidades que ele possui.\n",
    "# Observando os termos no plural a colocação do \"e\", da vírgula entre outros.\n",
    "# Exemplo:\n",
    "# 326 = 3 centenas, 2 dezenas e 6 unidades\n",
    "# 12 = 1 dezena e 2 unidades\n",
    "# Testar com: 326, 300, 100, 320, 310, 301, 101, 311, 111, 25, 20, 10, 21, 11, 1 e 7\n"
   ]
  },
  {
   "cell_type": "code",
   "execution_count": 35,
   "id": "288f0777-e3ac-4a60-97c1-851ef8ecf137",
   "metadata": {},
   "outputs": [
    {
     "name": "stdout",
     "output_type": "stream",
     "text": [
      "326 = 3 centenas 2 dezenas 6 unidades \n",
      "300 = 3 centenas \n",
      "100 = 1 centena \n",
      "320 = 3 centenas 2 dezenas \n",
      "310 = 3 centenas 1 dezena \n",
      "301 = 3 centenas 1 unidade \n",
      "101 = 1 centena 1 unidade \n",
      "311 = 3 centenas 1 dezena 1 unidade \n",
      "111 = 1 centena 1 dezena 1 unidade \n",
      "25 = 2 dezenas 5 unidades \n",
      "20 = 2 dezenas \n",
      "10 = 1 dezena \n",
      "21 = 2 dezenas 1 unidade \n",
      "11 = 1 dezena 1 unidade \n",
      "1 = 1 unidade \n",
      "7 = 7 unidades \n"
     ]
    }
   ],
   "source": [
    "numeros = [326, 300, 100, 320, 310, 301, 101, 311, 111, 25, 20, 10, 21, 11, 1, 7]\n",
    "\n",
    "def obter_quantidades(numero):\n",
    "    centenas = numero // 100\n",
    "    dezenas = (numero % 100) // 10\n",
    "    unidades = numero % 10\n",
    "    return centenas, dezenas, unidades\n",
    "\n",
    "def imprimir_quantidades(quantidade, nome):\n",
    "    if quantidade == 0:\n",
    "        return\n",
    "    plural = '' if quantidade == 1 else 's'\n",
    "    print(f\"{quantidade} {nome}{plural}\", end=\" \")\n",
    "\n",
    "for numero in numeros:\n",
    "    centenas, dezenas, unidades = obter_quantidades(numero)\n",
    "    print(f\"{numero} =\", end=\" \")\n",
    "    imprimir_quantidades(centenas, 'centena')\n",
    "    imprimir_quantidades(dezenas, 'dezena')\n",
    "    imprimir_quantidades(unidades, 'unidade')\n",
    "    print()\n"
   ]
  },
  {
   "cell_type": "code",
   "execution_count": null,
   "id": "0a4e2d2f-cbdb-49c2-9116-e3a6eec8ae8d",
   "metadata": {},
   "outputs": [],
   "source": [
    "# Quesão 07\n",
    "# O Hipermercado Tabajara está com uma promoção de carnes que é imperdível. Confira:\n",
    "\n",
    "# |------------|-----------------|------------------|\n",
    "# | Tipo       | Até 5 Kg        | Acima de 5 Kg    |\n",
    "# |------------|-----------------|------------------|\n",
    "# | File Duplo | R$ 49,00 por Kg | R$ 58,00 por Kg  |\n",
    "# | Alcatra    | R$ 59,00 por Kg | R$ 68,00 por Kg  |\n",
    "# | Picanha    | R$ 69,00 por Kg | R$ 78,00 por Kg  |\n",
    "# |------------|-----------------|------------------|\n",
    "\n",
    "# Para atender a todos os clientes, cada cliente poderá levar apenas um dos tipos decarne da promoção, porém não há limites para a \n",
    "# quantidade de carne por cliente. Se compra for feita no cartão Tabajara o cliente receberá ainda um desconto de 5%sobre o total da compra. \n",
    "# Escreva um programa que peça o tipo e a quantidade de carne comprada pelo usuário e gere um cupom fiscal, contendo as informações da\n",
    "# compra: tipo e quantidade de carne, preço total, tipo de pagamento, valor do desconto e valor a pagar.\n",
    "\n"
   ]
  },
  {
   "cell_type": "code",
   "execution_count": 50,
   "id": "739c37e3-83ea-4e59-bdcc-aded520f9e60",
   "metadata": {},
   "outputs": [
    {
     "name": "stdin",
     "output_type": "stream",
     "text": [
      "Digite o tipo de carne (File Duplo, Alcatra ou Picanha):  Picanha\n",
      "Digite a quantidade desejada (em Kg):  8.5\n",
      "Você possui cartão Tabajara? (sim ou nao):  sim\n"
     ]
    },
    {
     "name": "stdout",
     "output_type": "stream",
     "text": [
      "\n",
      "# === # Cupom Fiscal # === #\n",
      "Tipo de carne: Picanha\n",
      "Quantidade: 8.50 Kg\n",
      "Preço total: R$ 663.00\n",
      "Tipo de pagamento: Cartão Tabajara\n",
      "Desconto: R$ 3.90\n",
      "Valor a pagar: R$ 659.10\n",
      "\n",
      "# == Obrigado Pela Preferência == #\n"
     ]
    }
   ],
   "source": [
    "PRECO = {\n",
    "    \"File Duplo\": (49.00, 58.00),\n",
    "    \"Alcatra\": (59.00, 68.00),\n",
    "    \"Picanha\": (69.00, 78.00)\n",
    "}\n",
    "\n",
    "tipo = input(\"Digite o tipo de carne (File Duplo, Alcatra ou Picanha): \")\n",
    "quantidade = float(input(\"Digite a quantidade desejada (em Kg): \"))\n",
    "cartao = input(\"Você possui cartão Tabajara? (sim ou nao): \").lower() == \"sim\"\n",
    "\n",
    "def calcular_total(tipo, quantidade, cartao):\n",
    "    preco = PRECO[tipo][1] if quantidade > 5 else PRECO[tipo][0]\n",
    "    desconto = preco * 0.05 if cartao else 0\n",
    "    preco_total = preco * quantidade\n",
    "    preco_final = preco_total - desconto\n",
    "    return preco_total, desconto, preco_final\n",
    "\n",
    "preco_total, desconto, preco_final = calcular_total(tipo, quantidade, cartao)\n",
    "\n",
    "print(\"\\n# === # Cupom Fiscal # === #\")\n",
    "print(f\"Tipo de carne: {tipo}\")\n",
    "print(f\"Quantidade: {quantidade:.2f} Kg\")\n",
    "print(f\"Preço total: R$ {preco_total:.2f}\")\n",
    "print(f\"Tipo de pagamento: {'Cartão Tabajara' if cartao else 'Dinheiro'}\")\n",
    "print(f\"Desconto: R$ {desconto:.2f}\")\n",
    "print(f\"Valor a pagar: R$ {preco_final:.2f}\")\n",
    "\n",
    "print(\"\\n# == Obrigado Pela Preferência == #\")\n"
   ]
  },
  {
   "cell_type": "code",
   "execution_count": 51,
   "id": "9c069276-5551-4056-96b8-84b47d7bd33f",
   "metadata": {},
   "outputs": [
    {
     "name": "stdout",
     "output_type": "stream",
     "text": [
      "### Interrogatório ###\n",
      "Responda às seguintes perguntas com 'sim' ou 'nao':\n"
     ]
    },
    {
     "name": "stdin",
     "output_type": "stream",
     "text": [
      "Telefonou para a vítima?  sim\n",
      "Esteve no local do crime?  sim\n",
      "Mora perto da vítima?  sim\n",
      "Devia para a vítima?  não\n",
      "Já trabalhou com a vítima?  não\n"
     ]
    },
    {
     "name": "stdout",
     "output_type": "stream",
     "text": [
      "\n",
      "Classificação: Cúmplice\n"
     ]
    }
   ],
   "source": [
    "def fazer_perguntas():\n",
    "    respostas_positivas = 0\n",
    "    print(\"Responda às seguintes perguntas com 'sim' ou 'nao':\")\n",
    "    if input(\"Telefonou para a vítima? \").lower() == \"sim\":\n",
    "        respostas_positivas += 1\n",
    "    if input(\"Esteve no local do crime? \").lower() == \"sim\":\n",
    "        respostas_positivas += 1\n",
    "    if input(\"Mora perto da vítima? \").lower() == \"sim\":\n",
    "        respostas_positivas += 1\n",
    "    if input(\"Devia para a vítima? \").lower() == \"sim\":\n",
    "        respostas_positivas += 1\n",
    "    if input(\"Já trabalhou com a vítima? \").lower() == \"sim\":\n",
    "        respostas_positivas += 1\n",
    "    return respostas_positivas\n",
    "\n",
    "def emitir_classificacao(respostas_positivas):\n",
    "    if respostas_positivas == 2:\n",
    "        return \"Suspeita\"\n",
    "    elif 3 <= respostas_positivas <= 4:\n",
    "        return \"Cúmplice\"\n",
    "    elif respostas_positivas == 5:\n",
    "        return \"Assassino\"\n",
    "    else:\n",
    "        return \"Inocente\"\n",
    "\n",
    "print(\"### Interrogatório ###\")\n",
    "respostas_positivas = fazer_perguntas()\n",
    "classificacao = emitir_classificacao(respostas_positivas)\n",
    "print(f\"\\nClassificação: {classificacao}\")"
   ]
  }
 ],
 "metadata": {
  "kernelspec": {
   "display_name": "Python 3 (ipykernel)",
   "language": "python",
   "name": "python3"
  },
  "language_info": {
   "codemirror_mode": {
    "name": "ipython",
    "version": 3
   },
   "file_extension": ".py",
   "mimetype": "text/x-python",
   "name": "python",
   "nbconvert_exporter": "python",
   "pygments_lexer": "ipython3",
   "version": "3.11.7"
  }
 },
 "nbformat": 4,
 "nbformat_minor": 5
}
