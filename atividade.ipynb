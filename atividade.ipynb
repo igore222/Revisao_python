{
 "cells": [
  {
   "cell_type": "code",
   "execution_count": 1,
   "id": "4fef7267-8da0-4c31-8bed-1e2f0b424508",
   "metadata": {},
   "outputs": [],
   "source": [
    "# Estudo de Revisão Python - Estruturas de decisão"
   ]
  },
  {
   "cell_type": "code",
   "execution_count": 4,
   "id": "3d94904b-cd1c-448c-8b94-1433833d75cc",
   "metadata": {},
   "outputs": [],
   "source": [
    "# Questão 01\n",
    "\n",
    "# Faça um programa para a leitura de duas notas parciais de um aluno. O programa deve calcular a média alcançada por aluno e apresentar:\n",
    "\n",
    "# A mensagem \"Aprovado\", se a média alcançada for maior ou igual a 7;\n",
    "# A mensagem \"Reprovado\", se a média for menor do que 7;\n",
    "# A mensagem \"Aprovado com Distinção\", se a média for igual a 10\n"
   ]
  },
  {
   "cell_type": "code",
   "execution_count": 8,
   "id": "f24a1463-4627-4deb-8b88-389a77d0995f",
   "metadata": {},
   "outputs": [
    {
     "name": "stdin",
     "output_type": "stream",
     "text": [
      "Insira a nota 01:  8\n",
      "Insira a nota 02:  10\n"
     ]
    },
    {
     "name": "stdout",
     "output_type": "stream",
     "text": [
      "Aprovado\n"
     ]
    }
   ],
   "source": [
    "nota1 = float(input(\"Insira a nota 01: \"))\n",
    "nota2 = float(input(\"Insira a nota 02: \"))\n",
    "\n",
    "media = (nota1 + nota2) / 2\n",
    "\n",
    "if media == 10:\n",
    "    print(\"Aprovado com Distinção\")\n",
    "elif media >= 7:\n",
    "    print(\"Aprovado\")\n",
    "else:\n",
    "    print(\"Reprovado\")\n"
   ]
  },
  {
   "cell_type": "code",
   "execution_count": 9,
   "id": "2c048d71-4636-446d-86ac-6e30af709392",
   "metadata": {},
   "outputs": [],
   "source": [
    "# Questão 02\n",
    "\n",
    "# Faça um Programa que leia três números e mostre-os em ordem decrescente"
   ]
  },
  {
   "cell_type": "code",
   "execution_count": 11,
   "id": "f17ea52c-eec3-45dd-a471-0c850a411ed3",
   "metadata": {},
   "outputs": [
    {
     "name": "stdin",
     "output_type": "stream",
     "text": [
      "Digite o 1° número:  54\n",
      "Digite o 2° número:  7\n",
      "Digite o 2° número:  98\n"
     ]
    },
    {
     "name": "stdout",
     "output_type": "stream",
     "text": [
      "Números em ordem decrescente: \n",
      "98.0\n",
      "54.0\n",
      "7.0\n"
     ]
    }
   ],
   "source": [
    "num1 = float(input(\"Digite o 1° número: \"))\n",
    "num2 = float(input(\"Digite o 2° número: \"))\n",
    "num3 = float(input(\"Digite o 2° número: \"))\n",
    "\n",
    "print(\"Números em ordem decrescente: \")\n",
    "for num in sorted([num1, num2, num3], reverse=True):\n",
    "    print(num)\n"
   ]
  },
  {
   "cell_type": "code",
   "execution_count": 12,
   "id": "9273b17f-5304-4781-8e39-2721553f4e68",
   "metadata": {},
   "outputs": [],
   "source": [
    "# Questão 03\n",
    "\n",
    "# Faça um programa que recebe o salário de um colaborador e o reajuste segundo o seguinte critério, baseado no salário atual:\n",
    "# salários até R$ 280,00 (incluindo) : aumento de 20%\n",
    "# salários entre R$ 280,00 e R$ 700,00 : aumento de 15%\n",
    "# salários entre R$ 700,00 e R$ 1500,00 : aumento de 10%\n",
    "# salários de R$ 1500,00 em diante : aumento de 5% Após o aumento ser realizado, informe na tela:\n",
    "# o salário antes do reajuste;\n",
    "# o percentual de aumento aplicado;\n",
    "# o valor do aumento;\n",
    "# o novo salário, após o aumento."
   ]
  },
  {
   "cell_type": "code",
   "execution_count": 16,
   "id": "18d4ecc3-eb53-412f-a2e2-3de3463d30f1",
   "metadata": {},
   "outputs": [
    {
     "name": "stdin",
     "output_type": "stream",
     "text": [
      "Colaborador, digite o seu salário atual:  785\n"
     ]
    },
    {
     "name": "stdout",
     "output_type": "stream",
     "text": [
      "Seu salário antes do reajuste era: R$ 785.0\n",
      "Com o percentual de aumento aplicado: 10 %\n",
      "O valor do aumento será: R$ 78.5\n",
      "Seu novo salário após o aumento: R$ 863.5\n"
     ]
    }
   ],
   "source": [
    "salario_atual = float(input(\"Colaborador, digite o seu salário atual: \"))\n",
    "\n",
    "if salario_atual <= 280:\n",
    "    percent_aum = 20\n",
    "elif salario_atual <= 700:\n",
    "    percent_aum = 15\n",
    "elif salario_atual <= 1500:\n",
    "    percent_aum = 10\n",
    "else:\n",
    "    percentual_aumento = 5\n",
    "\n",
    "aumento = salario_atual * (percent_aum / 100)\n",
    "novo_salario = salario_atual + aumento\n",
    "\n",
    "print(\"Seu salário antes do reajuste era: R$\", salario_atual)\n",
    "print(\"Com o percentual de aumento aplicado:\", percent_aum, \"%\")\n",
    "print(\"O valor do aumento será: R$\", aumento)\n",
    "print(\"Seu novo salário após o aumento: R$\", novo_salario)\n"
   ]
  },
  {
   "cell_type": "code",
   "execution_count": 18,
   "id": "0a195d56-5840-4c23-9e4b-ca29c9db3e17",
   "metadata": {},
   "outputs": [],
   "source": [
    "# Questão 04\n",
    "\n",
    "# Faça um programa para o cálculo de uma folha de pagamento, sabendo que os descontos são do Imposto de Renda, que depende do salário bruto \n",
    "# (conforme tabela abaixo) e 3% para o Sindicato e que o FGTS corresponde a 11% do Salário Bruto, mas não é descontado (é a empresa que deposita). \n",
    "# O Salário Líquido corresponde ao Salário Bruto menos os descontos. O programa deverá pedir ao usuário o valor da sua hora e a quantidade de horas trabalhadas no mês.\n",
    "# Desconto do IR:\n",
    "# Salário Bruto até 900 (inclusive) - isento\n",
    "# Salário Bruto até 1500 (inclusive) - desconto de 5%\n",
    "# Salário Bruto até 2500 (inclusive) - desconto de 10%\n",
    "# Salário Bruto acima de 2500 - desconto de 20%\n",
    "# Imprima na tela as informações, dispostas conforme o exemplo abaixo. No exemplo o valor da hora é 5 e a quantidade de hora é 220."
   ]
  },
  {
   "cell_type": "code",
   "execution_count": null,
   "id": "05cdc68f-9947-473c-a562-acfab7d77366",
   "metadata": {},
   "outputs": [],
   "source": []
  }
 ],
 "metadata": {
  "kernelspec": {
   "display_name": "Python 3 (ipykernel)",
   "language": "python",
   "name": "python3"
  },
  "language_info": {
   "codemirror_mode": {
    "name": "ipython",
    "version": 3
   },
   "file_extension": ".py",
   "mimetype": "text/x-python",
   "name": "python",
   "nbconvert_exporter": "python",
   "pygments_lexer": "ipython3",
   "version": "3.11.7"
  }
 },
 "nbformat": 4,
 "nbformat_minor": 5
}
